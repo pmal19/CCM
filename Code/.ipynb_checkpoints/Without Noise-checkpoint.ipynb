{
 "cells": [
  {
   "cell_type": "code",
   "execution_count": 1,
   "metadata": {},
   "outputs": [
    {
     "name": "stdout",
     "output_type": "stream",
     "text": [
      "Populating the interactive namespace from numpy and matplotlib\n"
     ]
    }
   ],
   "source": [
    "from __future__ import print_function\n",
    "%matplotlib inline\n",
    "%pylab inline\n",
    "# %load_ext memory_profiler\n",
    "import matplotlib.pyplot as plt\n",
    "import seaborn; seaborn.set_style('whitegrid')\n",
    "import numpy\n",
    "import itertools\n",
    "from tabulate import tabulate\n",
    "from pomegranate import *\n",
    "from pomegranate import BayesianNetwork\n",
    "import iac_org as iacO"
   ]
  },
  {
   "cell_type": "code",
   "execution_count": 2,
   "metadata": {
    "collapsed": true
   },
   "outputs": [],
   "source": [
    "attributes = [\"gang\", \"age\", \"edu\", \"mar\", \"occ\", \"name\"]\n",
    "\n",
    "def prob(evidences, atts):\n",
    "    count, total = 0, 0\n",
    "    for datapoint in iacO.data:\n",
    "        inc = True\n",
    "        for key in evidences:\n",
    "            inc = inc and datapoint[key] == evidences[key]\n",
    "        if inc:\n",
    "            total += 1\n",
    "            f = True\n",
    "            for key in atts:\n",
    "                f = f and datapoint[key] == atts[key]\n",
    "            if f:\n",
    "                count += 1\n",
    "    return count, total, float(count)/total\n",
    "\n",
    "def enums(key):\n",
    "    vals = set()\n",
    "    for datapoint in iacO.data:\n",
    "        if datapoint[key] not in vals:\n",
    "            vals.add(datapoint[key])\n",
    "    return list(vals)"
   ]
  },
  {
   "cell_type": "code",
   "execution_count": 3,
   "metadata": {},
   "outputs": [
    {
     "name": "stdout",
     "output_type": "stream",
     "text": [
      "27\n"
     ]
    }
   ],
   "source": [
    "attributes = [\"gang\", \"age\", \"edu\", \"mar\", \"occ\", \"name\"]\n",
    "distributions = {}\n",
    "for att in attributes:\n",
    "    probs = {}\n",
    "    vals = enums(att)\n",
    "    for val in vals:\n",
    "        probs[val] = prob({},{att:val})[2]\n",
    "    distributions[att] = DiscreteDistribution(probs)\n",
    "\n",
    "dataInArray = []\n",
    "n = {}\n",
    "for datapoint in iacO.data:\n",
    "    row = []\n",
    "    for att in attributes:\n",
    "        row.append(datapoint[att])\n",
    "    dataInArray.append(row)\n",
    "print(len(dataInArray))\n",
    "# print(tabulate(dataInArray))"
   ]
  },
  {
   "cell_type": "code",
   "execution_count": 4,
   "metadata": {
    "collapsed": true
   },
   "outputs": [],
   "source": [
    "src = []\n",
    "dist = []\n",
    "states = []\n",
    "for att in attributes:\n",
    "    src.append(enums(att))\n",
    "    dist.append(distributions[att])\n",
    "CPT = []\n",
    "cpt_dict = {}\n",
    "c = 0\n",
    "for element in itertools.product(*src):\n",
    "    temp = list(element)\n",
    "    if temp in dataInArray:\n",
    "        CPT.append(temp+[1])\n",
    "        c += 1\n",
    "        cpt_dict[element] = 1\n",
    "    else:\n",
    "        CPT.append(temp+[0])\n",
    "        cpt_dict[element] = 0\n",
    "# CPT\n",
    "# print(cpt_dict)\n",
    "# print(tabulate(CPT, headers=attributes+[\"prob\"]))"
   ]
  },
  {
   "cell_type": "code",
   "execution_count": 5,
   "metadata": {
    "collapsed": true
   },
   "outputs": [],
   "source": [
    "cond = ConditionalProbabilityTable(CPT, dist[:-1])\n",
    "name = State(cond, name=\"name\")\n",
    "gang = State(distributions[\"gang\"], name=\"gang\")\n",
    "age = State(distributions[\"age\"], name=\"age\")\n",
    "edu = State(distributions[\"edu\"], name=\"edu\")\n",
    "mar = State(distributions[\"mar\"], name=\"mar\")\n",
    "occ = State(distributions[\"occ\"], name=\"occ\")\n",
    "\n",
    "model = BayesianNetwork(\"Jets and Sharks\")\n",
    "model.add_states(gang, age, edu, mar, occ, name)\n",
    "\n",
    "model.add_edge(gang, name)\n",
    "model.add_edge(age, name)\n",
    "model.add_edge(edu, name)\n",
    "model.add_edge(mar, name)\n",
    "model.add_edge(occ, name)\n",
    "model.bake()\n",
    "# print(model.predict_proba({}))"
   ]
  },
  {
   "cell_type": "code",
   "execution_count": 19,
   "metadata": {},
   "outputs": [
    {
     "name": "stdout",
     "output_type": "stream",
     "text": [
      "[{\n",
      "    \"frozen\" :false,\n",
      "    \"dtype\" :\"str\",\n",
      "    \"class\" :\"Distribution\",\n",
      "    \"parameters\" :[\n",
      "        {\n",
      "            \"Jets\" :0.661681942434475,\n",
      "            \"Sharks\" :0.33831805756552497\n",
      "        }\n",
      "    ],\n",
      "    \"name\" :\"DiscreteDistribution\"\n",
      "}\n",
      " {\n",
      "    \"frozen\" :false,\n",
      "    \"dtype\" :\"str\",\n",
      "    \"class\" :\"Distribution\",\n",
      "    \"parameters\" :[\n",
      "        {\n",
      "            \"20s\" :0.3441067695771024,\n",
      "            \"30s\" :0.5915742080720372,\n",
      "            \"40s\" :0.06431902235086046\n",
      "        }\n",
      "    ],\n",
      "    \"name\" :\"DiscreteDistribution\"\n",
      "}\n",
      " {\n",
      "    \"frozen\" :false,\n",
      "    \"dtype\" :\"str\",\n",
      "    \"class\" :\"Distribution\",\n",
      "    \"parameters\" :[\n",
      "        {\n",
      "            \"HS\" :0.5465508924264348,\n",
      "            \"JH\" :0.3569705740472745,\n",
      "            \"COL\" :0.09647853352629056\n",
      "        }\n",
      "    ],\n",
      "    \"name\" :\"DiscreteDistribution\"\n",
      "}\n",
      " 'single'\n",
      " {\n",
      "    \"frozen\" :false,\n",
      "    \"dtype\" :\"str\",\n",
      "    \"class\" :\"Distribution\",\n",
      "    \"parameters\" :[\n",
      "        {\n",
      "            \"pusher\" :0.3653320469528864,\n",
      "            \"burglar\" :0.07075092458594649,\n",
      "            \"bookie\" :0.5639170284611672\n",
      "        }\n",
      "    ],\n",
      "    \"name\" :\"DiscreteDistribution\"\n",
      "}\n",
      " {\n",
      "    \"frozen\" :false,\n",
      "    \"dtype\" :\"str\",\n",
      "    \"class\" :\"Distribution\",\n",
      "    \"parameters\" :[\n",
      "        {\n",
      "            \"Pete\" :0.08843865573243256,\n",
      "            \"Ned\" :0.0,\n",
      "            \"Jim\" :0.0,\n",
      "            \"Ralph\" :0.10451841132014751,\n",
      "            \"Nick\" :0.09197620196172983,\n",
      "            \"Clyde\" :0.03215951117543018,\n",
      "            \"Rick\" :0.0,\n",
      "            \"John\" :0.0,\n",
      "            \"Lance\" :0.0,\n",
      "            \"Ken\" :0.0707509245859462,\n",
      "            \"Mike\" :0.10451841132014751,\n",
      "            \"Fred\" :0.08843865573243256,\n",
      "            \"Dave\" :0.0,\n",
      "            \"Ike\" :0.08361472905611814,\n",
      "            \"Earl\" :0.0,\n",
      "            \"Ol\" :0.0,\n",
      "            \"Don\" :0.0,\n",
      "            \"Phil\" :0.0,\n",
      "            \"Neal\" :0.09197620196172983,\n",
      "            \"Greg\" :0.0,\n",
      "            \"Gene\" :0.0482392667631451,\n",
      "            \"Art\" :0.03215951117543018,\n",
      "            \"Sam\" :0.0482392667631451,\n",
      "            \"Al\" :0.0,\n",
      "            \"Doug\" :0.11497025245216229,\n",
      "            \"George\" :0.0,\n",
      "            \"Karl\" :0.0\n",
      "        }\n",
      "    ],\n",
      "    \"name\" :\"DiscreteDistribution\"\n",
      "}]\n"
     ]
    }
   ],
   "source": [
    "# print(model.predict_proba({'gang': 'Sharks', 'age': '20s'})) #Content Addressability\n",
    "# print(model.predict_proba({'gang': 'Sharks', 'age': '30s', 'edu': 'JH', 'occ': 'bookie', 'mar': 'divorced'})) #Graceful Degradation. is actually 'mar': 'single'\n",
    "# print(model.predict_proba({'name': 'Ike'})) #Retrieval by name\n",
    "# print(model.predict_proba({'gang': 'Jets'})) #Spontaneous Generalization\n",
    "print(model.predict_proba({'mar': 'single'})) #Spontaneous Generalization"
   ]
  },
  {
   "cell_type": "code",
   "execution_count": 17,
   "metadata": {},
   "outputs": [],
   "source": [
    "# print(prob({'gang': 'Jets', 'occ': 'pusher'},{'mar': 'single'}))\n",
    "# print(model.predict_proba({'occ': 'bookie' ,'mar': 'single'}))\n",
    "# print(prob({'name': 'Lance', 'occ': 'pusher'},{'mar': 'single'}))\n",
    "# print(model.predict_proba({'name': 'Lance', 'occ': 'pusher'}))\n",
    "# print(model.predict_proba({'gang': 'Sharks', 'age': '30s', 'edu': 'JH', 'occ': 'bookie', 'mar': 'married'})) #'mar': 'single'\n",
    "# print(model.predict_proba({'gang': 'Jets'}))\n",
    "# print(model.predict_proba({'name': 'John'}))\n",
    "# print(prob({},{'gang': 'Jets'}))\n",
    "# print(prob({},{'name': 'John'x}))"
   ]
  },
  {
   "cell_type": "code",
   "execution_count": 14,
   "metadata": {},
   "outputs": [
    {
     "data": {
      "text/plain": [
       "0.037037037037037035"
      ]
     },
     "execution_count": 14,
     "metadata": {},
     "output_type": "execute_result"
    }
   ],
   "source": []
  },
  {
   "cell_type": "code",
   "execution_count": null,
   "metadata": {
    "collapsed": true
   },
   "outputs": [],
   "source": []
  },
  {
   "cell_type": "code",
   "execution_count": null,
   "metadata": {
    "collapsed": true
   },
   "outputs": [],
   "source": []
  }
 ],
 "metadata": {
  "kernelspec": {
   "display_name": "Python 2",
   "language": "python",
   "name": "python2"
  },
  "language_info": {
   "codemirror_mode": {
    "name": "ipython",
    "version": 2
   },
   "file_extension": ".py",
   "mimetype": "text/x-python",
   "name": "python",
   "nbconvert_exporter": "python",
   "pygments_lexer": "ipython2",
   "version": "2.7.15"
  }
 },
 "nbformat": 4,
 "nbformat_minor": 2
}
