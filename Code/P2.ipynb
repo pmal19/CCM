{
 "cells": [
  {
   "cell_type": "code",
   "execution_count": 62,
   "metadata": {},
   "outputs": [
    {
     "name": "stdout",
     "output_type": "stream",
     "text": [
      "Populating the interactive namespace from numpy and matplotlib\n"
     ]
    }
   ],
   "source": [
    "%matplotlib inline\n",
    "%pylab inline\n",
    "# %load_ext memory_profiler\n",
    "import matplotlib.pyplot as plt\n",
    "import seaborn; seaborn.set_style('whitegrid')\n",
    "import numpy\n",
    "import itertools\n",
    "import iac1"
   ]
  },
  {
   "cell_type": "code",
   "execution_count": 64,
   "metadata": {
    "scrolled": false
   },
   "outputs": [
    {
     "name": "stdout",
     "output_type": "stream",
     "text": [
      "Traceback (most recent call last):\r\n",
      "  File \"iac1.py\", line 187, in <module>\r\n",
      "    cycle(100, {('name', 'Ken'): 1})\r\n",
      "  File \"iac1.py\", line 182, in cycle\r\n",
      "    update()\r\n",
      "  File \"iac1.py\", line 158, in update\r\n",
      "    den += math.exp(node.netInput)\r\n",
      "OverflowError: math range error\r\n"
     ]
    }
   ],
   "source": [
    "!python iac1.py"
   ]
  },
  {
   "cell_type": "code",
   "execution_count": 39,
   "metadata": {},
   "outputs": [
    {
     "name": "stdout",
     "output_type": "stream",
     "text": [
      "instance Art -0.14471498631919216\r\n",
      "instance Al -0.1482123349133767\r\n",
      "instance Sam -0.12989669370094536\r\n",
      "instance Clyde -0.14471498631919216\r\n",
      "instance Mike -0.14470411130815858\r\n",
      "instance Jim -0.1353909658005012\r\n",
      "instance Greg -0.12884991811021645\r\n",
      "instance John -0.1353909658005012\r\n",
      "instance Doug -0.1221873320067947\r\n",
      "instance Lance -0.1353909658005012\r\n",
      "instance George -0.1353909658005012\r\n",
      "instance Pete 0.03816710007054068\r\n",
      "instance Fred 0.03816710007054068\r\n",
      "instance Gene -0.12989669370094536\r\n",
      "instance Ralph -0.14470411130815858\r\n",
      "instance Phil -0.14470411130815858\r\n",
      "instance Ike -0.12344367050006036\r\n",
      "instance Nick 0.23830693996726424\r\n",
      "instance Don -0.12988289819896454\r\n",
      "instance Ned -0.14470411130815858\r\n",
      "instance Karl -0.12220263382140577\r\n",
      "instance Ken 0.6832206158490971\r\n",
      "instance Earl 0.03816710007054075\r\n",
      "instance Rick 0.0383561953496126\r\n",
      "instance Ol -0.14470411130815858\r\n",
      "instance Neal 0.23830693996726424\r\n",
      "instance Dave -0.1221873320067947\r\n",
      "name Art -0.14464290358506948\r\n",
      "name Al -0.14464290358506948\r\n",
      "name Sam -0.14464290358506948\r\n",
      "name Clyde -0.14464290358506948\r\n",
      "name Mike -0.14464290358506948\r\n",
      "name Jim -0.14464290358506948\r\n",
      "name Greg -0.14464290358506948\r\n",
      "name John -0.14464290358506948\r\n",
      "name Doug -0.14464290358506948\r\n",
      "name Lance -0.14464290358506948\r\n",
      "name George -0.14464290358506948\r\n",
      "name Pete -0.14328927124037696\r\n",
      "name Fred -0.14328927124037696\r\n",
      "name Gene -0.14464290358506948\r\n",
      "name Ralph -0.14464290358506948\r\n",
      "name Phil -0.14464290358506948\r\n",
      "name Ike -0.14464290358506948\r\n",
      "name Nick -0.13667241997209847\r\n",
      "name Don -0.14464290358506948\r\n",
      "name Ned -0.14464290358506948\r\n",
      "name Karl -0.14464290358506948\r\n",
      "name Ken 0.8064494010682347\r\n",
      "name Earl -0.14328927124037696\r\n",
      "name Rick -0.14328927124037696\r\n",
      "name Ol -0.14464290358506948\r\n",
      "name Neal -0.1366724199720985\r\n",
      "name Dave -0.14464290358506948\r\n",
      "gang Jets -0.12928860554282903\r\n",
      "gang Sharks 0.5064877987024132\r\n",
      "age 40s -0.1252885217898623\r\n",
      "age 30s 0.005074536937234971\r\n",
      "age 20s 0.3782235630079962\r\n",
      "edu JH -0.1343898416499092\r\n",
      "edu COL -0.1343898416499092\r\n",
      "edu HS 0.5244301902932138\r\n",
      "edu JS -0.1343898416499092\r\n",
      "mar single 0.5064877987024132\r\n",
      "mar married -0.13146154165009818\r\n",
      "mar divorced -0.13146154165009818\r\n",
      "occ pusher -0.11037237655662262\r\n",
      "occ burglar 0.3783457617251306\r\n",
      "occ bookie -0.11037237655662262\r\n"
     ]
    }
   ],
   "source": [
    "!python iacO.py"
   ]
  },
  {
   "cell_type": "code",
   "execution_count": null,
   "metadata": {
    "collapsed": true
   },
   "outputs": [],
   "source": []
  }
 ],
 "metadata": {
  "kernelspec": {
   "display_name": "Python 3",
   "language": "python",
   "name": "python3"
  },
  "language_info": {
   "codemirror_mode": {
    "name": "ipython",
    "version": 3
   },
   "file_extension": ".py",
   "mimetype": "text/x-python",
   "name": "python",
   "nbconvert_exporter": "python",
   "pygments_lexer": "ipython3",
   "version": "3.6.1"
  }
 },
 "nbformat": 4,
 "nbformat_minor": 2
}
